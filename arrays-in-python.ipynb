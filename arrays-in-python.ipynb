{
 "cells": [
  {
   "cell_type": "markdown",
   "id": "58575447",
   "metadata": {
    "papermill": {
     "duration": 0.006291,
     "end_time": "2024-04-29T08:29:17.725407",
     "exception": false,
     "start_time": "2024-04-29T08:29:17.719116",
     "status": "completed"
    },
    "tags": []
   },
   "source": [
    "## Arrays in Python"
   ]
  },
  {
   "cell_type": "code",
   "execution_count": 1,
   "id": "c6ae95db",
   "metadata": {
    "_cell_guid": "b1076dfc-b9ad-4769-8c92-a6c4dae69d19",
    "_uuid": "8f2839f25d086af736a60e9eeb907d3b93b6e0e5",
    "execution": {
     "iopub.execute_input": "2024-04-29T08:29:17.738881Z",
     "iopub.status.busy": "2024-04-29T08:29:17.738382Z",
     "iopub.status.idle": "2024-04-29T08:29:17.748227Z",
     "shell.execute_reply": "2024-04-29T08:29:17.747516Z"
    },
    "papermill": {
     "duration": 0.01841,
     "end_time": "2024-04-29T08:29:17.750042",
     "exception": false,
     "start_time": "2024-04-29T08:29:17.731632",
     "status": "completed"
    },
    "tags": []
   },
   "outputs": [],
   "source": [
    "import numpy as np\n",
    "from array import *"
   ]
  },
  {
   "cell_type": "code",
   "execution_count": 2,
   "id": "93dd0cbf",
   "metadata": {
    "execution": {
     "iopub.execute_input": "2024-04-29T08:29:17.762549Z",
     "iopub.status.busy": "2024-04-29T08:29:17.761804Z",
     "iopub.status.idle": "2024-04-29T08:29:17.766889Z",
     "shell.execute_reply": "2024-04-29T08:29:17.765806Z"
    },
    "papermill": {
     "duration": 0.013181,
     "end_time": "2024-04-29T08:29:17.768753",
     "exception": false,
     "start_time": "2024-04-29T08:29:17.755572",
     "status": "completed"
    },
    "tags": []
   },
   "outputs": [
    {
     "name": "stdout",
     "output_type": "stream",
     "text": [
      "array('i', [1, 2, 3, 4, 5])\n"
     ]
    }
   ],
   "source": [
    "arr = array('i', [1,2,3,4,5])\n",
    "print(arr)"
   ]
  },
  {
   "cell_type": "code",
   "execution_count": 3,
   "id": "b80cb121",
   "metadata": {
    "execution": {
     "iopub.execute_input": "2024-04-29T08:29:17.781676Z",
     "iopub.status.busy": "2024-04-29T08:29:17.780860Z",
     "iopub.status.idle": "2024-04-29T08:29:17.786336Z",
     "shell.execute_reply": "2024-04-29T08:29:17.785287Z"
    },
    "papermill": {
     "duration": 0.014008,
     "end_time": "2024-04-29T08:29:17.788199",
     "exception": false,
     "start_time": "2024-04-29T08:29:17.774191",
     "status": "completed"
    },
    "tags": []
   },
   "outputs": [
    {
     "name": "stdout",
     "output_type": "stream",
     "text": [
      "(137543123685264, 5)\n"
     ]
    }
   ],
   "source": [
    "print(arr.buffer_info())"
   ]
  },
  {
   "cell_type": "code",
   "execution_count": 4,
   "id": "c94c2952",
   "metadata": {
    "execution": {
     "iopub.execute_input": "2024-04-29T08:29:17.801075Z",
     "iopub.status.busy": "2024-04-29T08:29:17.800523Z",
     "iopub.status.idle": "2024-04-29T08:29:17.805761Z",
     "shell.execute_reply": "2024-04-29T08:29:17.804729Z"
    },
    "papermill": {
     "duration": 0.013936,
     "end_time": "2024-04-29T08:29:17.807683",
     "exception": false,
     "start_time": "2024-04-29T08:29:17.793747",
     "status": "completed"
    },
    "tags": []
   },
   "outputs": [
    {
     "name": "stdout",
     "output_type": "stream",
     "text": [
      "3\n"
     ]
    }
   ],
   "source": [
    "print(arr[2])"
   ]
  },
  {
   "cell_type": "code",
   "execution_count": 5,
   "id": "d6589309",
   "metadata": {
    "execution": {
     "iopub.execute_input": "2024-04-29T08:29:17.820604Z",
     "iopub.status.busy": "2024-04-29T08:29:17.820040Z",
     "iopub.status.idle": "2024-04-29T08:29:17.825080Z",
     "shell.execute_reply": "2024-04-29T08:29:17.824117Z"
    },
    "papermill": {
     "duration": 0.013524,
     "end_time": "2024-04-29T08:29:17.826911",
     "exception": false,
     "start_time": "2024-04-29T08:29:17.813387",
     "status": "completed"
    },
    "tags": []
   },
   "outputs": [
    {
     "name": "stdout",
     "output_type": "stream",
     "text": [
      "1\n",
      "2\n",
      "3\n",
      "4\n",
      "5\n"
     ]
    }
   ],
   "source": [
    "for i in arr:\n",
    "    print(i)"
   ]
  },
  {
   "cell_type": "code",
   "execution_count": 6,
   "id": "dbfd898c",
   "metadata": {
    "execution": {
     "iopub.execute_input": "2024-04-29T08:29:17.840370Z",
     "iopub.status.busy": "2024-04-29T08:29:17.839807Z",
     "iopub.status.idle": "2024-04-29T08:29:17.845204Z",
     "shell.execute_reply": "2024-04-29T08:29:17.844072Z"
    },
    "papermill": {
     "duration": 0.014347,
     "end_time": "2024-04-29T08:29:17.847239",
     "exception": false,
     "start_time": "2024-04-29T08:29:17.832892",
     "status": "completed"
    },
    "tags": []
   },
   "outputs": [
    {
     "name": "stdout",
     "output_type": "stream",
     "text": [
      "1\n",
      "2\n",
      "3\n",
      "4\n",
      "5\n"
     ]
    }
   ],
   "source": [
    "for pnt in range(5):\n",
    "    print(arr[pnt])"
   ]
  },
  {
   "cell_type": "code",
   "execution_count": 7,
   "id": "cf912e0e",
   "metadata": {
    "execution": {
     "iopub.execute_input": "2024-04-29T08:29:17.860628Z",
     "iopub.status.busy": "2024-04-29T08:29:17.860256Z",
     "iopub.status.idle": "2024-04-29T08:29:17.864720Z",
     "shell.execute_reply": "2024-04-29T08:29:17.863747Z"
    },
    "papermill": {
     "duration": 0.01429,
     "end_time": "2024-04-29T08:29:17.867429",
     "exception": false,
     "start_time": "2024-04-29T08:29:17.853139",
     "status": "completed"
    },
    "tags": []
   },
   "outputs": [
    {
     "name": "stdout",
     "output_type": "stream",
     "text": [
      "1\n",
      "2\n",
      "3\n",
      "4\n"
     ]
    }
   ],
   "source": [
    "for pnt in range(4):\n",
    "    print(arr[pnt])"
   ]
  },
  {
   "cell_type": "code",
   "execution_count": 8,
   "id": "69ffc8e3",
   "metadata": {
    "execution": {
     "iopub.execute_input": "2024-04-29T08:29:17.881082Z",
     "iopub.status.busy": "2024-04-29T08:29:17.880744Z",
     "iopub.status.idle": "2024-04-29T08:29:17.885206Z",
     "shell.execute_reply": "2024-04-29T08:29:17.884223Z"
    },
    "papermill": {
     "duration": 0.014411,
     "end_time": "2024-04-29T08:29:17.887883",
     "exception": false,
     "start_time": "2024-04-29T08:29:17.873472",
     "status": "completed"
    },
    "tags": []
   },
   "outputs": [
    {
     "name": "stdout",
     "output_type": "stream",
     "text": [
      "2\n",
      "3\n",
      "4\n"
     ]
    }
   ],
   "source": [
    "for pnt in range(1,4):\n",
    "    print(arr[pnt])"
   ]
  },
  {
   "cell_type": "code",
   "execution_count": 9,
   "id": "89f06649",
   "metadata": {
    "execution": {
     "iopub.execute_input": "2024-04-29T08:29:17.902847Z",
     "iopub.status.busy": "2024-04-29T08:29:17.902500Z",
     "iopub.status.idle": "2024-04-29T08:29:17.907109Z",
     "shell.execute_reply": "2024-04-29T08:29:17.906154Z"
    },
    "papermill": {
     "duration": 0.015346,
     "end_time": "2024-04-29T08:29:17.909433",
     "exception": false,
     "start_time": "2024-04-29T08:29:17.894087",
     "status": "completed"
    },
    "tags": []
   },
   "outputs": [
    {
     "name": "stdout",
     "output_type": "stream",
     "text": [
      "array('i', [5, 4, 3, 2, 1])\n"
     ]
    }
   ],
   "source": [
    "arr.reverse()\n",
    "print(arr)"
   ]
  },
  {
   "cell_type": "code",
   "execution_count": 10,
   "id": "752bf97f",
   "metadata": {
    "execution": {
     "iopub.execute_input": "2024-04-29T08:29:17.922777Z",
     "iopub.status.busy": "2024-04-29T08:29:17.922470Z",
     "iopub.status.idle": "2024-04-29T08:29:17.926213Z",
     "shell.execute_reply": "2024-04-29T08:29:17.925288Z"
    },
    "papermill": {
     "duration": 0.012742,
     "end_time": "2024-04-29T08:29:17.928129",
     "exception": false,
     "start_time": "2024-04-29T08:29:17.915387",
     "status": "completed"
    },
    "tags": []
   },
   "outputs": [],
   "source": [
    "arr.append(10)"
   ]
  },
  {
   "cell_type": "code",
   "execution_count": 11,
   "id": "9c7191d9",
   "metadata": {
    "execution": {
     "iopub.execute_input": "2024-04-29T08:29:17.941875Z",
     "iopub.status.busy": "2024-04-29T08:29:17.941238Z",
     "iopub.status.idle": "2024-04-29T08:29:17.947494Z",
     "shell.execute_reply": "2024-04-29T08:29:17.946560Z"
    },
    "papermill": {
     "duration": 0.015288,
     "end_time": "2024-04-29T08:29:17.949412",
     "exception": false,
     "start_time": "2024-04-29T08:29:17.934124",
     "status": "completed"
    },
    "tags": []
   },
   "outputs": [
    {
     "data": {
      "text/plain": [
       "array('i', [5, 4, 3, 2, 1, 10])"
      ]
     },
     "execution_count": 11,
     "metadata": {},
     "output_type": "execute_result"
    }
   ],
   "source": [
    "arr"
   ]
  },
  {
   "cell_type": "code",
   "execution_count": 12,
   "id": "3b32d3e4",
   "metadata": {
    "execution": {
     "iopub.execute_input": "2024-04-29T08:29:17.962900Z",
     "iopub.status.busy": "2024-04-29T08:29:17.962569Z",
     "iopub.status.idle": "2024-04-29T08:29:17.966772Z",
     "shell.execute_reply": "2024-04-29T08:29:17.965852Z"
    },
    "papermill": {
     "duration": 0.013068,
     "end_time": "2024-04-29T08:29:17.968616",
     "exception": false,
     "start_time": "2024-04-29T08:29:17.955548",
     "status": "completed"
    },
    "tags": []
   },
   "outputs": [],
   "source": [
    "arr.remove(2)"
   ]
  },
  {
   "cell_type": "code",
   "execution_count": 13,
   "id": "dcf499f5",
   "metadata": {
    "execution": {
     "iopub.execute_input": "2024-04-29T08:29:17.981629Z",
     "iopub.status.busy": "2024-04-29T08:29:17.981291Z",
     "iopub.status.idle": "2024-04-29T08:29:17.986948Z",
     "shell.execute_reply": "2024-04-29T08:29:17.986047Z"
    },
    "papermill": {
     "duration": 0.014201,
     "end_time": "2024-04-29T08:29:17.988801",
     "exception": false,
     "start_time": "2024-04-29T08:29:17.974600",
     "status": "completed"
    },
    "tags": []
   },
   "outputs": [
    {
     "data": {
      "text/plain": [
       "array('i', [5, 4, 3, 1, 10])"
      ]
     },
     "execution_count": 13,
     "metadata": {},
     "output_type": "execute_result"
    }
   ],
   "source": [
    "arr"
   ]
  },
  {
   "cell_type": "code",
   "execution_count": 14,
   "id": "0323e204",
   "metadata": {
    "execution": {
     "iopub.execute_input": "2024-04-29T08:29:18.002069Z",
     "iopub.status.busy": "2024-04-29T08:29:18.001749Z",
     "iopub.status.idle": "2024-04-29T08:29:18.005982Z",
     "shell.execute_reply": "2024-04-29T08:29:18.005058Z"
    },
    "papermill": {
     "duration": 0.013146,
     "end_time": "2024-04-29T08:29:18.008046",
     "exception": false,
     "start_time": "2024-04-29T08:29:17.994900",
     "status": "completed"
    },
    "tags": []
   },
   "outputs": [],
   "source": [
    "arr.append(5)"
   ]
  },
  {
   "cell_type": "code",
   "execution_count": 15,
   "id": "28195307",
   "metadata": {
    "execution": {
     "iopub.execute_input": "2024-04-29T08:29:18.021726Z",
     "iopub.status.busy": "2024-04-29T08:29:18.021332Z",
     "iopub.status.idle": "2024-04-29T08:29:18.027245Z",
     "shell.execute_reply": "2024-04-29T08:29:18.026349Z"
    },
    "papermill": {
     "duration": 0.014999,
     "end_time": "2024-04-29T08:29:18.029161",
     "exception": false,
     "start_time": "2024-04-29T08:29:18.014162",
     "status": "completed"
    },
    "tags": []
   },
   "outputs": [
    {
     "data": {
      "text/plain": [
       "array('i', [5, 4, 3, 1, 10, 5])"
      ]
     },
     "execution_count": 15,
     "metadata": {},
     "output_type": "execute_result"
    }
   ],
   "source": [
    "arr"
   ]
  },
  {
   "cell_type": "code",
   "execution_count": 16,
   "id": "e0fcb79d",
   "metadata": {
    "execution": {
     "iopub.execute_input": "2024-04-29T08:29:18.042890Z",
     "iopub.status.busy": "2024-04-29T08:29:18.042572Z",
     "iopub.status.idle": "2024-04-29T08:29:18.046931Z",
     "shell.execute_reply": "2024-04-29T08:29:18.045981Z"
    },
    "papermill": {
     "duration": 0.013394,
     "end_time": "2024-04-29T08:29:18.048817",
     "exception": false,
     "start_time": "2024-04-29T08:29:18.035423",
     "status": "completed"
    },
    "tags": []
   },
   "outputs": [],
   "source": [
    "arr.remove(5)"
   ]
  },
  {
   "cell_type": "code",
   "execution_count": 17,
   "id": "50224148",
   "metadata": {
    "execution": {
     "iopub.execute_input": "2024-04-29T08:29:18.062632Z",
     "iopub.status.busy": "2024-04-29T08:29:18.062262Z",
     "iopub.status.idle": "2024-04-29T08:29:18.067396Z",
     "shell.execute_reply": "2024-04-29T08:29:18.066707Z"
    },
    "papermill": {
     "duration": 0.014069,
     "end_time": "2024-04-29T08:29:18.069153",
     "exception": false,
     "start_time": "2024-04-29T08:29:18.055084",
     "status": "completed"
    },
    "tags": []
   },
   "outputs": [
    {
     "data": {
      "text/plain": [
       "array('i', [4, 3, 1, 10, 5])"
      ]
     },
     "execution_count": 17,
     "metadata": {},
     "output_type": "execute_result"
    }
   ],
   "source": [
    "arr"
   ]
  },
  {
   "cell_type": "code",
   "execution_count": 18,
   "id": "e4895a9b",
   "metadata": {
    "execution": {
     "iopub.execute_input": "2024-04-29T08:29:18.083505Z",
     "iopub.status.busy": "2024-04-29T08:29:18.083148Z",
     "iopub.status.idle": "2024-04-29T08:29:18.087842Z",
     "shell.execute_reply": "2024-04-29T08:29:18.086908Z"
    },
    "papermill": {
     "duration": 0.014491,
     "end_time": "2024-04-29T08:29:18.090013",
     "exception": false,
     "start_time": "2024-04-29T08:29:18.075522",
     "status": "completed"
    },
    "tags": []
   },
   "outputs": [
    {
     "name": "stdout",
     "output_type": "stream",
     "text": [
      "10\n",
      "1\n"
     ]
    }
   ],
   "source": [
    "print(arr[3])\n",
    "print(arr.index(3))"
   ]
  },
  {
   "cell_type": "code",
   "execution_count": 19,
   "id": "2b5ad0b5",
   "metadata": {
    "execution": {
     "iopub.execute_input": "2024-04-29T08:29:18.105201Z",
     "iopub.status.busy": "2024-04-29T08:29:18.104524Z",
     "iopub.status.idle": "2024-04-29T08:29:18.109977Z",
     "shell.execute_reply": "2024-04-29T08:29:18.108959Z"
    },
    "papermill": {
     "duration": 0.01566,
     "end_time": "2024-04-29T08:29:18.112422",
     "exception": false,
     "start_time": "2024-04-29T08:29:18.096762",
     "status": "completed"
    },
    "tags": []
   },
   "outputs": [
    {
     "name": "stdout",
     "output_type": "stream",
     "text": [
      "0 4\n",
      "1 3\n",
      "2 1\n",
      "3 10\n"
     ]
    }
   ],
   "source": [
    "for pnt in range(4):\n",
    "    print(pnt, arr[pnt])"
   ]
  },
  {
   "cell_type": "code",
   "execution_count": 20,
   "id": "d1453522",
   "metadata": {
    "execution": {
     "iopub.execute_input": "2024-04-29T08:29:18.127147Z",
     "iopub.status.busy": "2024-04-29T08:29:18.126807Z",
     "iopub.status.idle": "2024-04-29T08:29:18.131070Z",
     "shell.execute_reply": "2024-04-29T08:29:18.130122Z"
    },
    "papermill": {
     "duration": 0.013995,
     "end_time": "2024-04-29T08:29:18.133110",
     "exception": false,
     "start_time": "2024-04-29T08:29:18.119115",
     "status": "completed"
    },
    "tags": []
   },
   "outputs": [],
   "source": [
    "arr.reverse()"
   ]
  },
  {
   "cell_type": "code",
   "execution_count": 21,
   "id": "19182732",
   "metadata": {
    "execution": {
     "iopub.execute_input": "2024-04-29T08:29:18.147740Z",
     "iopub.status.busy": "2024-04-29T08:29:18.147399Z",
     "iopub.status.idle": "2024-04-29T08:29:18.152987Z",
     "shell.execute_reply": "2024-04-29T08:29:18.152062Z"
    },
    "papermill": {
     "duration": 0.015226,
     "end_time": "2024-04-29T08:29:18.154880",
     "exception": false,
     "start_time": "2024-04-29T08:29:18.139654",
     "status": "completed"
    },
    "tags": []
   },
   "outputs": [
    {
     "data": {
      "text/plain": [
       "array('i', [5, 10, 1, 3, 4])"
      ]
     },
     "execution_count": 21,
     "metadata": {},
     "output_type": "execute_result"
    }
   ],
   "source": [
    "arr"
   ]
  },
  {
   "cell_type": "code",
   "execution_count": 22,
   "id": "b1e2f471",
   "metadata": {
    "execution": {
     "iopub.execute_input": "2024-04-29T08:29:18.169295Z",
     "iopub.status.busy": "2024-04-29T08:29:18.168975Z",
     "iopub.status.idle": "2024-04-29T08:29:18.175319Z",
     "shell.execute_reply": "2024-04-29T08:29:18.174186Z"
    },
    "papermill": {
     "duration": 0.0156,
     "end_time": "2024-04-29T08:29:18.177125",
     "exception": false,
     "start_time": "2024-04-29T08:29:18.161525",
     "status": "completed"
    },
    "tags": []
   },
   "outputs": [
    {
     "data": {
      "text/plain": [
       "'\"\"arr_x = array(\\'i\\', [])\\nx = int(input(\"Enter size of the array\"))\\nprint(\"Enter %d elements \"%x)\\nfor i in range(x):\\n    n = int(input())\\n    arr_x.append(n)\\nprint(arr_x)'"
      ]
     },
     "execution_count": 22,
     "metadata": {},
     "output_type": "execute_result"
    }
   ],
   "source": [
    "\"\"\"\"\"arr_x = array('i', [])\n",
    "x = int(input(\"Enter size of the array\"))\n",
    "print(\"Enter %d elements \"%x)\n",
    "for i in range(x):\n",
    "    n = int(input())\n",
    "    arr_x.append(n)\n",
    "print(arr_x)\"\"\"\"\""
   ]
  },
  {
   "cell_type": "code",
   "execution_count": null,
   "id": "03130cd4",
   "metadata": {
    "papermill": {
     "duration": 0.006341,
     "end_time": "2024-04-29T08:29:18.190060",
     "exception": false,
     "start_time": "2024-04-29T08:29:18.183719",
     "status": "completed"
    },
    "tags": []
   },
   "outputs": [],
   "source": []
  }
 ],
 "metadata": {
  "kaggle": {
   "accelerator": "none",
   "dataSources": [],
   "dockerImageVersionId": 30698,
   "isGpuEnabled": false,
   "isInternetEnabled": true,
   "language": "python",
   "sourceType": "notebook"
  },
  "kernelspec": {
   "display_name": "Python 3",
   "language": "python",
   "name": "python3"
  },
  "language_info": {
   "codemirror_mode": {
    "name": "ipython",
    "version": 3
   },
   "file_extension": ".py",
   "mimetype": "text/x-python",
   "name": "python",
   "nbconvert_exporter": "python",
   "pygments_lexer": "ipython3",
   "version": "3.10.13"
  },
  "papermill": {
   "default_parameters": {},
   "duration": 3.358582,
   "end_time": "2024-04-29T08:29:18.514480",
   "environment_variables": {},
   "exception": null,
   "input_path": "__notebook__.ipynb",
   "output_path": "__notebook__.ipynb",
   "parameters": {},
   "start_time": "2024-04-29T08:29:15.155898",
   "version": "2.5.0"
  }
 },
 "nbformat": 4,
 "nbformat_minor": 5
}
